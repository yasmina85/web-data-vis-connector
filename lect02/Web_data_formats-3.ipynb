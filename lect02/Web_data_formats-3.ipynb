{
 "cells": [
  {
   "cell_type": "markdown",
   "metadata": {},
   "source": [
    "# Web Data Formats\n",
    "\n",
    "This notebook introduces you to common data formats and how Python can read and write them. How one decides to structure data will ultimately shape the storage and possible analyses. \n",
    "\n",
    "**Reference: **\n",
    "* [Data and Twitter Analysis](https://github.com/henchc/EDUC290B/blob/master/02-Data-and-Twitter.ipynb)\n",
    "\n",
    "\n",
    "---\n",
    "**Topics Covered:**\n",
    "- [Data Formats and Storage](#dataformats)\n",
    "    - .csv \n",
    "    - .xml\n",
    "    - .json\n",
    "    - Example"
   ]
  },
  {
   "cell_type": "markdown",
   "metadata": {},
   "source": [
    "---\n",
    "\n",
    "## Data Formats and Storage\n",
    "\n",
    "### CSV\n",
    "\n",
    "Most people are familiar with Microsoft Excel spreadsheet's `.xls` format, great for storing tabular data. However, Microsoft encodes the `.xls` format with a lot of information for displaying it in the software environment as well as remembering any formulas you may have used, among other things. The extra information is often not necessary to simply store the raw data, and is not easily readable by other software. A \"bare-bones\" `.xls` format is the `.csv`, or \"comma-separated value\". You may have encountered this format before. It's not any more complicated than the name. All values are separated by commas to delimit columns, while the lines represent rows.\n",
    "\n",
    "The table:\n",
    "\n",
    "| Name    | Age | Department | Hometown |\n",
    "|---------|-----|------------|----------|\n",
    "| Chris   | 27  | German     | Plymouth |\n",
    "| Jarrett | 25  | Physics    | Newark   |\n",
    "| Sofia   | 22  | Chemistry  | Boston   |\n",
    "| Esther  | 24  | Economics  | Oakland  |\n",
    "\n",
    "\n",
    "would be represented as:\n",
    "\n",
    "~~~\n",
    "Name, Age, Department, Hometown\n",
    "Chris, 27, German, Plymouth\n",
    "Jarrett, 25, Physics, Newark\n",
    "Sofia, 22, Chemistry, Boston\n",
    "Esther, 24, Economics, Oakland\n",
    "~~~\n",
    "\n",
    "Notably, the header is not distinguishable except for being the first row. There is also no way to add any metadata or notes unless it fits into a column or row. Nevertheless, `.csv` is standard for simple data, and is easily read by most software. If you are collaborating with researchers or using different pieces of software you'll want to use this format.\n",
    "\n",
    "Python can easily dump data into a `.csv`, the most straight-forward approach would be dumping rows from a list of lists, each sublist being a row in your data."
   ]
  },
  {
   "cell_type": "code",
   "execution_count": null,
   "metadata": {},
   "outputs": [],
   "source": [
    "import csv\n",
    "\n",
    "my_data = [['Name', 'Age', 'Department', 'Hometown'],\n",
    "            ['Chris', '27', 'German', 'Plymouth'],\n",
    "            ['Jarrett', '25', 'Physics', 'Newark',],\n",
    "            ['Sofia', '22', 'Chemistry', 'Boston'],\n",
    "            ['Esther', '24', 'Economics', 'Oakland']\n",
    "        ]\n",
    "\n",
    "\n",
    "with open(\"my_data.csv\", \"w\") as f:\n",
    "    writer = csv.writer(f)\n",
    "    writer.writerows(my_data)\n",
    "    \n",
    "my_data"
   ]
  },
  {
   "cell_type": "markdown",
   "metadata": {},
   "source": [
    "Reading a `.csv` is just as easy:"
   ]
  },
  {
   "cell_type": "code",
   "execution_count": null,
   "metadata": {},
   "outputs": [],
   "source": [
    "with open(\"my_data.csv\", \"r\") as f:\n",
    "    csv_data = list(csv.reader(f))\n",
    "    \n",
    "print(csv_data)"
   ]
  },
  {
   "cell_type": "markdown",
   "metadata": {},
   "source": [
    "If you still prefer Excel for analysis, you can go ahead and open this file in Excel!"
   ]
  },
  {
   "cell_type": "markdown",
   "metadata": {},
   "source": [
    "----\n",
    "\n",
    "### XML\n",
    "\n",
    "XML, or 'Extensible Markup Language', much like HTML is structured by tags. Each tag will have a beginning tag and an end tag. The end tag is marked with a `/` before the tag name. Unlike HTML, XML does not have pre-defined tags that have certain functions, so we have to come up with our own. XML is a great way to structure metadata, and is commonly used for onilne data and annotating corpora. Let's look at an example:\n",
    "\n",
    "~~~\n",
    "\n",
    "<my-library>\n",
    "    <book>\n",
    "        <title>Harry Potter and the Sorcerer's Stone</title>\n",
    "        <author>J. K. Rowling</author>\n",
    "        <date>1998</date>\n",
    "        <publisher>Scholastic Corporation</publisher>\n",
    "    </book>\n",
    "    <book>\n",
    "        <title>The Hobbit</title>\n",
    "        <author>J. R. R. Tolkien</author>\n",
    "        <date>1937</date>\n",
    "        <publisher>George Allen and Unwin</publisher>\n",
    "    </book>\n",
    "    <book>\n",
    "        <title>To Kill A Mockingbird</title>\n",
    "        <author>Harper Lee</author>\n",
    "        <date>1960</date>\n",
    "        <publisher>J. B. Lippincott and Co.</publisher>\n",
    "    </book>\n",
    "</my-library>\n",
    "\n",
    "~~~\n",
    "\n",
    "You could, of course, use a CSV for this data, but when there are several more categories (if I wanted to add `films`, for example) it can get messy very fast."
   ]
  },
  {
   "cell_type": "code",
   "execution_count": null,
   "metadata": {
    "collapsed": true
   },
   "outputs": [],
   "source": [
    "xml_data = '''\n",
    "<my-library>\n",
    "    <book>\n",
    "        <title>Harry Potter and the Sorcerer's Stone</title>\n",
    "        <author>J. K. Rowling</author>\n",
    "        <date>1998</date>\n",
    "        <publisher>Scholastic Corporation</publisher>\n",
    "    </book>\n",
    "    <book>\n",
    "        <title>The Hobbit</title>\n",
    "        <author>J. R. R. Tolkien</author>\n",
    "        <date>1937</date>\n",
    "        <publisher>George Allen and Unwin</publisher>\n",
    "    </book>\n",
    "    <book>\n",
    "        <title>To Kill A Mockingbird</title>\n",
    "        <author>Harper Lee</author>\n",
    "        <date>1960</date>\n",
    "        <publisher>J. B. Lippincott and Co.</publisher>\n",
    "    </book>\n",
    "</my-library>\n",
    "'''"
   ]
  },
  {
   "cell_type": "code",
   "execution_count": null,
   "metadata": {},
   "outputs": [],
   "source": [
    "import xml.etree.ElementTree\n",
    "\n",
    "e = xml.etree.ElementTree.fromstring(xml_data)\n",
    "e.findall('book')"
   ]
  },
  {
   "cell_type": "code",
   "execution_count": null,
   "metadata": {},
   "outputs": [],
   "source": [
    "print(e.findall('book')[0][0].text)\n",
    "print(e.findall('book')[0][1].text)\n",
    "print(e.findall('book')[0][2].text)\n",
    "print(e.findall('book')[0][3].text)\n",
    "print()\n",
    "print(e.findall('book')[1][0].text)\n",
    "print(e.findall('book')[1][1].text)\n",
    "print(e.findall('book')[1][2].text)\n",
    "print(e.findall('book')[1][3].text)"
   ]
  },
  {
   "cell_type": "markdown",
   "metadata": {},
   "source": [
    "----\n",
    "\n",
    "### JSON\n",
    "\n",
    "JSON (JavaScript Object Notation) is a format for structuring and exchanging data. Its syntax is based on JavaScript, but you can still use it in any language, including Python. Its format is somewhat similar to that of a Python dictionary in that it consists of a collection of key-value pairs. JSON, along with XML, are the most popular formats to get data from the internet. Let's look at the same data from the XML example in JSON format.\n",
    "\n",
    "{'my-library': [{'title': \"Harry Potter and the Sorcerer's Stone\",\n",
    "                            'author': 'J. K. Rowling',\n",
    "                            'date': '1998',\n",
    "                            'publisher': 'Scholastic Corporation'},\n",
    "                            \n",
    "                            {'title': \"The Hobbit\",\n",
    "                            'author': 'J. R. R. Tolkien',\n",
    "                            'date': '1937',\n",
    "                            'publisher': 'George Allen and Unwin'},\n",
    "                            \n",
    "                            {'title': \"To Kill A Mockingbird\",\n",
    "                            'author': 'Harper Lee',\n",
    "                            'date': '1960',\n",
    "                            'publisher': 'J. B. Lippincott and Co.'},\n",
    "                            ]\n",
    "            }"
   ]
  },
  {
   "cell_type": "code",
   "execution_count": null,
   "metadata": {
    "scrolled": true
   },
   "outputs": [],
   "source": [
    "json_data = {'my-library': [{'title': \"Harry Potter and the Sorcerer's Stone\",\n",
    "                            'author': 'J. K. Rowling',\n",
    "                            'date': '1998',\n",
    "                            'publisher': 'Scholastic Corporation'},\n",
    "                            \n",
    "                            {'title': \"The Hobbit\",\n",
    "                            'author': 'J. R. R. Tolkien',\n",
    "                            'date': '1937',\n",
    "                            'publisher': 'George Allen and Unwin'},\n",
    "                            \n",
    "                            {'title': \"To Kill A Mockingbird\",\n",
    "                            'author': 'Harper Lee',\n",
    "                            'date': '1960',\n",
    "                            'publisher': 'J. B. Lippincott and Co.'},\n",
    "                            ]\n",
    "            }\n",
    "\n",
    "print(json_data['my-library'][0])\n",
    "print()\n",
    "print(json_data['my-library'][1])\n",
    "print()\n",
    "print(json_data['my-library'][2])"
   ]
  },
  {
   "cell_type": "markdown",
   "metadata": {},
   "source": [
    "# Example: Handling CSV Data"
   ]
  },
  {
   "cell_type": "code",
   "execution_count": null,
   "metadata": {
    "scrolled": false
   },
   "outputs": [],
   "source": [
    "import requests\n",
    "import csv\n",
    "\n",
    "url = 'http://climatedataapi.worldbank.org/climateweb/rest/v1/country/cru/tas/year/CAN.csv'\n",
    "response = requests.get(url)\n",
    "if response.status_code != 200:\n",
    "    print('Failed to get data:', response.status_code)\n",
    "else:\n",
    "    wrapper = csv.reader(response.text.strip().split('\\n'))\n",
    "    for record in wrapper:\n",
    "        print(record)\n",
    "        \n",
    "        \n"
   ]
  }
 ],
 "metadata": {
  "kernelspec": {
   "display_name": "Python 3",
   "language": "python",
   "name": "python3"
  },
  "language_info": {
   "codemirror_mode": {
    "name": "ipython",
    "version": 3
   },
   "file_extension": ".py",
   "mimetype": "text/x-python",
   "name": "python",
   "nbconvert_exporter": "python",
   "pygments_lexer": "ipython3",
   "version": "3.6.1"
  }
 },
 "nbformat": 4,
 "nbformat_minor": 2
}
