{
 "cells": [
  {
   "cell_type": "markdown",
   "metadata": {},
   "source": [
    "# Web Data Formats\n",
    "\n",
    "This notebook introduces you to common data formats and how Python can read and write them. How one decides to structure data will ultimately shape the storage and possible analyses. \n",
    "\n",
    "---\n",
    "**Topics Covered:**\n",
    "- [Data Formats and Storage](#dataformats)\n",
    "    - .csv \n",
    "    - .xml\n",
    "    - .json"
   ]
  },
  {
   "cell_type": "markdown",
   "metadata": {},
   "source": [
    "---\n",
    "\n",
    "## Data Formats and Storage\n",
    "\n",
    "### CSV\n",
    "\n",
    "Most people are familiar with Microsoft Excel spreadsheet's `.xls` format, great for storing tabular data. However, Microsoft encodes the `.xls` format with a lot of information for displaying it in the software environment as well as remembering any formulas you may have used, among other things. The extra information is often not necessary to simply store the raw data, and is not easily readable by other software. A \"bare-bones\" `.xls` format is the `.csv`, or \"comma-separated value\". You may have encountered this format before. It's not any more complicated than the name. All values are separated by commas to delimit columns, while the lines represent rows.\n",
    "\n",
    "The table:\n",
    "\n",
    "| Name    | Age | Department | Hometown |\n",
    "|---------|-----|------------|----------|\n",
    "| Chris   | 27  | German     | Plymouth |\n",
    "| Jarrett | 25  | Physics    | Newark   |\n",
    "| Sofia   | 22  | Chemistry  | Boston   |\n",
    "| Esther  | 24  | Economics  | Oakland  |\n",
    "\n",
    "\n",
    "would be represented as:\n",
    "\n",
    "~~~\n",
    "Name, Age, Department, Hometown\n",
    "Chris, 27, German, Plymouth\n",
    "Jarrett, 25, Physics, Newark\n",
    "Sofia, 22, Chemistry, Boston\n",
    "Esther, 24, Economics, Oakland\n",
    "~~~\n",
    "\n",
    "Notably, the header is not distinguishable except for being the first row. There is also no way to add any metadata or notes unless it fits into a column or row. Nevertheless, `.csv` is standard for simple data, and is easily read by most software. If you are collaborating with researchers or using different pieces of software you'll want to use this format.\n",
    "\n",
    "Python can easily dump data into a `.csv`, the most straight-forward approach would be dumping rows from a list of lists, each sublist being a row in your data."
   ]
  },
  {
   "cell_type": "code",
   "execution_count": 4,
   "metadata": {},
   "outputs": [
    {
     "data": {
      "text/plain": [
       "[['Name', 'Age', 'Department', 'Hometown'],\n",
       " ['Chris', '27', 'German', 'Plymouth'],\n",
       " ['Jarrett', '25', 'Physics', 'Newark'],\n",
       " ['Sofia', '22', 'Chemistry', 'Boston'],\n",
       " ['Esther', '24', 'Economics', 'Oakland']]"
      ]
     },
     "execution_count": 4,
     "metadata": {},
     "output_type": "execute_result"
    }
   ],
   "source": [
    "import csv\n",
    "\n",
    "my_data = [['Name', 'Age', 'Department', 'Hometown'],\n",
    "            ['Chris', '27', 'German', 'Plymouth'],\n",
    "            ['Jarrett', '25', 'Physics', 'Newark',],\n",
    "            ['Sofia', '22', 'Chemistry', 'Boston'],\n",
    "            ['Esther', '24', 'Economics', 'Oakland']\n",
    "        ]\n",
    "\n",
    "\n",
    "with open(\"my_data.csv\", \"w\") as f:\n",
    "    writer = csv.writer(f)\n",
    "    writer.writerows(my_data)\n",
    "    \n",
    "my_data"
   ]
  },
  {
   "cell_type": "markdown",
   "metadata": {},
   "source": [
    "Reading a `.csv` is just as easy:"
   ]
  },
  {
   "cell_type": "code",
   "execution_count": 5,
   "metadata": {},
   "outputs": [
    {
     "name": "stdout",
     "output_type": "stream",
     "text": [
      "[['Name', 'Age', 'Department', 'Hometown'], ['Chris', '27', 'German', 'Plymouth'], ['Jarrett', '25', 'Physics', 'Newark'], ['Sofia', '22', 'Chemistry', 'Boston'], ['Esther', '24', 'Economics', 'Oakland']]\n"
     ]
    }
   ],
   "source": [
    "with open(\"my_data.csv\", \"r\") as f:\n",
    "    csv_data = list(csv.reader(f))\n",
    "    \n",
    "print(csv_data)"
   ]
  },
  {
   "cell_type": "markdown",
   "metadata": {},
   "source": [
    "If you still prefer Excel for analysis, you can go ahead and open this file in Excel!"
   ]
  },
  {
   "cell_type": "markdown",
   "metadata": {},
   "source": [
    "----\n",
    "\n",
    "### XML\n",
    "\n",
    "XML, or 'Extensible Markup Language', much like HTML is structured by tags. Each tag will have a beginning tag and an end tag. The end tag is marked with a `/` before the tag name. Unlike HTML, XML does not have pre-defined tags that have certain functions, so we have to come up with our own. XML is a great way to structure metadata, and is commonly used for onilne data and annotating corpora. Let's look at an example:\n",
    "\n",
    "~~~\n",
    "\n",
    "<my-library>\n",
    "    <book>\n",
    "        <title>Harry Potter and the Sorcerer's Stone</title>\n",
    "        <author>J. K. Rowling</author>\n",
    "        <date>1998</date>\n",
    "        <publisher>Scholastic Corporation</publisher>\n",
    "    </book>\n",
    "    <book>\n",
    "        <title>The Hobbit</title>\n",
    "        <author>J. R. R. Tolkien</author>\n",
    "        <date>1937</date>\n",
    "        <publisher>George Allen and Unwin</publisher>\n",
    "    </book>\n",
    "    <book>\n",
    "        <title>To Kill A Mockingbird</title>\n",
    "        <author>Harper Lee</author>\n",
    "        <date>1960</date>\n",
    "        <publisher>J. B. Lippincott and Co.</publisher>\n",
    "    </book>\n",
    "</my-library>\n",
    "\n",
    "~~~\n",
    "\n",
    "You could, of course, use a CSV for this data, but when there are several more categories (if I wanted to add `films`, for example) it can get messy very fast."
   ]
  },
  {
   "cell_type": "code",
   "execution_count": null,
   "metadata": {
    "collapsed": true
   },
   "outputs": [],
   "source": [
    "xml_data = '''\n",
    "<my-library>\n",
    "    <book>\n",
    "        <title>Harry Potter and the Sorcerer's Stone</title>\n",
    "        <author>J. K. Rowling</author>\n",
    "        <date>1998</date>\n",
    "        <publisher>Scholastic Corporation</publisher>\n",
    "    </book>\n",
    "    <book>\n",
    "        <title>The Hobbit</title>\n",
    "        <author>J. R. R. Tolkien</author>\n",
    "        <date>1937</date>\n",
    "        <publisher>George Allen and Unwin</publisher>\n",
    "    </book>\n",
    "    <book>\n",
    "        <title>To Kill A Mockingbird</title>\n",
    "        <author>Harper Lee</author>\n",
    "        <date>1960</date>\n",
    "        <publisher>J. B. Lippincott and Co.</publisher>\n",
    "    </book>\n",
    "</my-library>\n",
    "'''"
   ]
  },
  {
   "cell_type": "code",
   "execution_count": 7,
   "metadata": {},
   "outputs": [
    {
     "data": {
      "text/plain": [
       "[<Element 'book' at 0x7f36042ccd68>,\n",
       " <Element 'book' at 0x7f36042f7818>,\n",
       " <Element 'book' at 0x7f36042f79a8>]"
      ]
     },
     "execution_count": 7,
     "metadata": {},
     "output_type": "execute_result"
    }
   ],
   "source": [
    "import xml.etree.ElementTree\n",
    "\n",
    "e = xml.etree.ElementTree.fromstring(xml_data)\n",
    "e.findall('book')"
   ]
  },
  {
   "cell_type": "code",
   "execution_count": 8,
   "metadata": {},
   "outputs": [
    {
     "name": "stdout",
     "output_type": "stream",
     "text": [
      "Harry Potter and the Sorcerer's Stone\n",
      "J. K. Rowling\n",
      "1998\n",
      "Scholastic Corporation\n",
      "\n",
      "The Hobbit\n",
      "J. R. R. Tolkien\n",
      "1937\n",
      "George Allen and Unwin\n"
     ]
    }
   ],
   "source": [
    "print(e.findall('book')[0][0].text)\n",
    "print(e.findall('book')[0][1].text)\n",
    "print(e.findall('book')[0][2].text)\n",
    "print(e.findall('book')[0][3].text)\n",
    "print()\n",
    "print(e.findall('book')[1][0].text)\n",
    "print(e.findall('book')[1][1].text)\n",
    "print(e.findall('book')[1][2].text)\n",
    "print(e.findall('book')[1][3].text)"
   ]
  },
  {
   "cell_type": "markdown",
   "metadata": {},
   "source": [
    "----\n",
    "\n",
    "### JSON\n",
    "\n",
    "JSON (JavaScript Object Notation) is a format for structuring and exchanging data. Its syntax is based on JavaScript, but you can still use it in any language, including Python. Its format is somewhat similar to that of a Python dictionary in that it consists of a collection of key-value pairs. JSON, along with XML, are the most popular formats to get data from the internet. Let's look at the same data from the XML example in JSON format.\n",
    "\n",
    "{'my-library': [{'title': \"Harry Potter and the Sorcerer's Stone\",\n",
    "                            'author': 'J. K. Rowling',\n",
    "                            'date': '1998',\n",
    "                            'publisher': 'Scholastic Corporation'},\n",
    "                            \n",
    "                            {'title': \"The Hobbit\",\n",
    "                            'author': 'J. R. R. Tolkien',\n",
    "                            'date': '1937',\n",
    "                            'publisher': 'George Allen and Unwin'},\n",
    "                            \n",
    "                            {'title': \"To Kill A Mockingbird\",\n",
    "                            'author': 'Harper Lee',\n",
    "                            'date': '1960',\n",
    "                            'publisher': 'J. B. Lippincott and Co.'},\n",
    "                            ]\n",
    "            }"
   ]
  },
  {
   "cell_type": "code",
   "execution_count": 9,
   "metadata": {
    "scrolled": true
   },
   "outputs": [
    {
     "name": "stdout",
     "output_type": "stream",
     "text": [
      "{'title': \"Harry Potter and the Sorcerer's Stone\", 'author': 'J. K. Rowling', 'date': '1998', 'publisher': 'Scholastic Corporation'}\n",
      "\n",
      "{'title': 'The Hobbit', 'author': 'J. R. R. Tolkien', 'date': '1937', 'publisher': 'George Allen and Unwin'}\n",
      "\n",
      "{'title': 'To Kill A Mockingbird', 'author': 'Harper Lee', 'date': '1960', 'publisher': 'J. B. Lippincott and Co.'}\n"
     ]
    }
   ],
   "source": [
    "json_data = {'my-library': [{'title': \"Harry Potter and the Sorcerer's Stone\",\n",
    "                            'author': 'J. K. Rowling',\n",
    "                            'date': '1998',\n",
    "                            'publisher': 'Scholastic Corporation'},\n",
    "                            \n",
    "                            {'title': \"The Hobbit\",\n",
    "                            'author': 'J. R. R. Tolkien',\n",
    "                            'date': '1937',\n",
    "                            'publisher': 'George Allen and Unwin'},\n",
    "                            \n",
    "                            {'title': \"To Kill A Mockingbird\",\n",
    "                            'author': 'Harper Lee',\n",
    "                            'date': '1960',\n",
    "                            'publisher': 'J. B. Lippincott and Co.'},\n",
    "                            ]\n",
    "            }\n",
    "\n",
    "print(json_data['my-library'][0])\n",
    "print()\n",
    "print(json_data['my-library'][1])\n",
    "print()\n",
    "print(json_data['my-library'][2])"
   ]
  },
  {
   "cell_type": "markdown",
   "metadata": {},
   "source": [
    "# Handling CSV Data"
   ]
  },
  {
   "cell_type": "code",
   "execution_count": 14,
   "metadata": {},
   "outputs": [
    {
     "name": "stdout",
     "output_type": "stream",
     "text": [
      "['year', 'data']\n",
      "['1901', '-7.67241907119751']\n",
      "['1902', '-7.862711429595947']\n",
      "['1903', '-7.910782814025879']\n",
      "['1904', '-8.155729293823242']\n",
      "['1905', '-7.547311305999756']\n",
      "['1906', '-7.684103488922119']\n",
      "['1907', '-8.413553237915039']\n",
      "['1908', '-7.790929317474365']\n",
      "['1909', '-8.23930549621582']\n",
      "['1910', '-7.774611473083496']\n",
      "['1911', '-8.114446640014648']\n",
      "['1912', '-7.885402679443359']\n",
      "['1913', '-7.987940311431885']\n",
      "['1914', '-7.965937614440918']\n",
      "['1915', '-7.144039154052734']\n",
      "['1916', '-8.132978439331055']\n",
      "['1917', '-8.499914169311523']\n",
      "['1918', '-8.204662322998047']\n",
      "['1919', '-8.035985946655273']\n",
      "['1920', '-7.830679893493652']\n",
      "['1921', '-7.685777187347412']\n",
      "['1922', '-8.334989547729492']\n",
      "['1923', '-8.022125244140625']\n",
      "['1924', '-7.574568271636963']\n",
      "['1925', '-7.951625823974609']\n",
      "['1926', '-7.792789459228516']\n",
      "['1927', '-7.961727142333984']\n",
      "['1928', '-7.237975120544434']\n",
      "['1929', '-8.123651504516602']\n",
      "['1930', '-7.302305698394775']\n",
      "['1931', '-6.646339416503906']\n",
      "['1932', '-7.821688652038574']\n",
      "['1933', '-8.693134307861328']\n",
      "['1934', '-7.964327335357666']\n",
      "['1935', '-8.166967391967773']\n",
      "['1936', '-8.59422492980957']\n",
      "['1937', '-7.3392534255981445']\n",
      "['1938', '-6.856348991394043']\n",
      "['1939', '-7.669107913970947']\n",
      "['1940', '-6.799381256103516']\n",
      "['1941', '-7.233104705810547']\n",
      "['1942', '-7.097812652587891']\n",
      "['1943', '-7.2231879234313965']\n",
      "['1944', '-6.603946685791016']\n",
      "['1945', '-7.646345615386963']\n",
      "['1946', '-7.739509582519531']\n",
      "['1947', '-7.161524295806885']\n",
      "['1948', '-7.659969329833984']\n",
      "['1949', '-7.696352958679199']\n",
      "['1950', '-8.517829895019531']\n",
      "['1951', '-7.903929710388184']\n",
      "['1952', '-6.680769920349121']\n",
      "['1953', '-6.7539520263671875']\n",
      "['1954', '-7.334064483642578']\n",
      "['1955', '-7.586000919342041']\n",
      "['1956', '-8.27430534362793']\n",
      "['1957', '-7.763300895690918']\n",
      "['1958', '-6.903257846832275']\n",
      "['1959', '-7.8713836669921875']\n",
      "['1960', '-6.951033115386963']\n",
      "['1961', '-7.946412086486816']\n",
      "['1962', '-7.465360164642334']\n",
      "['1963', '-7.363328456878662']\n",
      "['1964', '-8.241130828857422']\n",
      "['1965', '-8.078269958496094']\n",
      "['1966', '-7.83267879486084']\n",
      "['1967', '-7.973592281341553']\n",
      "['1968', '-7.3681206703186035']\n",
      "['1969', '-7.0392913818359375']\n",
      "['1970', '-7.720573425292969']\n",
      "['1971', '-7.469780921936035']\n",
      "['1972', '-9.525187492370605']\n",
      "['1973', '-6.853341579437256']\n",
      "['1974', '-8.428787231445312']\n",
      "['1975', '-7.621856689453125']\n",
      "['1976', '-7.588895320892334']\n",
      "['1977', '-6.557257652282715']\n",
      "['1978', '-7.993335723876953']\n",
      "['1979', '-7.845717430114746']\n",
      "['1980', '-7.049171447753906']\n",
      "['1981', '-5.506665229797363']\n",
      "['1982', '-8.5137939453125']\n",
      "['1983', '-7.463536262512207']\n",
      "['1984', '-7.414198398590088']\n",
      "['1985', '-7.432916164398193']\n",
      "['1986', '-7.71035099029541']\n",
      "['1987', '-6.4537835121154785']\n",
      "['1988', '-6.610030174255371']\n",
      "['1989', '-7.706485748291016']\n",
      "['1990', '-7.6779985427856445']\n",
      "['1991', '-7.095147132873535']\n",
      "['1992', '-7.697887420654297']\n",
      "['1993', '-6.986419677734375']\n",
      "['1994', '-6.888780117034912']\n",
      "['1995', '-6.850322723388672']\n",
      "['1996', '-7.337457180023193']\n",
      "['1997', '-6.88342809677124']\n",
      "['1998', '-5.186192989349365']\n",
      "['1999', '-5.975519180297852']\n",
      "['2000', '-6.7265448570251465']\n",
      "['2001', '-5.930727958679199']\n",
      "['2002', '-6.852164268493652']\n",
      "['2003', '-6.402592658996582']\n",
      "['2004', '-7.529717445373535']\n",
      "['2005', '-5.863758563995361']\n",
      "['2006', '-5.543209552764893']\n",
      "['2007', '-6.819293975830078']\n",
      "['2008', '-7.2008957862854']\n",
      "['2009', '-6.997011661529541']\n",
      "['2010', '-4.703649520874023']\n",
      "['2011', '-5.9335737228393555']\n",
      "['2012', '-5.714600563049316']\n"
     ]
    }
   ],
   "source": [
    "import requests\n",
    "import csv\n",
    "\n",
    "url = 'http://climatedataapi.worldbank.org/climateweb/rest/v1/country/cru/tas/year/CAN.csv'\n",
    "response = requests.get(url)\n",
    "if response.status_code != 200:\n",
    "    print('Failed to get data:', response.status_code)\n",
    "else:\n",
    "    wrapper = csv.reader(response.text.strip().split('\\n'))\n",
    "    for record in wrapper:\n",
    "        print(record)\n",
    "        \n",
    "        \n"
   ]
  },
  {
   "cell_type": "code",
   "execution_count": null,
   "metadata": {
    "scrolled": false
   },
   "outputs": [],
   "source": []
  },
  {
   "cell_type": "code",
   "execution_count": null,
   "metadata": {
    "collapsed": true
   },
   "outputs": [],
   "source": []
  }
 ],
 "metadata": {
  "kernelspec": {
   "display_name": "Python 3",
   "language": "python",
   "name": "python3"
  },
  "language_info": {
   "codemirror_mode": {
    "name": "ipython",
    "version": 3
   },
   "file_extension": ".py",
   "mimetype": "text/x-python",
   "name": "python",
   "nbconvert_exporter": "python",
   "pygments_lexer": "ipython3",
   "version": "3.6.1"
  }
 },
 "nbformat": 4,
 "nbformat_minor": 2
}
