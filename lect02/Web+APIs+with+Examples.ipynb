{
 "cells": [
  {
   "cell_type": "markdown",
   "metadata": {},
   "source": [
    " # Web APIs\n",
    "\n",
    "A growing number of organizations make data sets available on the web in a style called REST, which stands for REpresentational State Transfer. The details (and ideology) aren’t important; what matters is that when REST is used, every data set is identified by a URL and can be accessed through a set of functions called an application programming interface (API). \n",
    "\n",
    "**Topics Covered:**\n",
    "- Web APIs\n",
    "- Example for Web APIs\n",
    "- Get data from different APIs:\n",
    "    * [Web APIs](#Web APIs)\n",
    "    * [Climate Data API](#Climate Data API)\n",
    "    * [Twitter API](#twitterapi)\n",
    "    * [NYtimes API](#NYtimes API)\n",
    "\n",
    "\n",
    "    \n",
    "### How Do GET Requests Work?  A Web Browsing Example\n",
    "\n",
    "As you might suspect from the example above, surfing the web is basically equivalent to sending a bunch of GET requests to different servers and asking for different files written in HTML.\n",
    "\n",
    "Suppose, for instance, I wanted to look something up on Wikipedia.  My first step would be to open my web browser and type in http://www.wikipedia.org.  Once I hit return, I'd see the page below.  \n"
   ]
  },
  {
   "cell_type": "code",
   "execution_count": 9,
   "metadata": {},
   "outputs": [
    {
     "ename": "SyntaxError",
     "evalue": "invalid syntax (<ipython-input-9-cd6e386a459a>, line 5)",
     "output_type": "error",
     "traceback": [
      "\u001b[0;36m  File \u001b[0;32m\"<ipython-input-9-cd6e386a459a>\"\u001b[0;36m, line \u001b[0;32m5\u001b[0m\n\u001b[0;31m    * allows users to query a remote database over the internet\u001b[0m\n\u001b[0m                 ^\u001b[0m\n\u001b[0;31mSyntaxError\u001b[0m\u001b[0;31m:\u001b[0m invalid syntax\n"
     ]
    }
   ],
   "source": []
  },
  {
   "cell_type": "markdown",
   "metadata": {},
   "source": [
    "### Steps of getting data from Web APIs:\n",
    "##### STEP 1: Finding Data Resources\n",
    "\n",
    "Newspapers are an excellent source of such information. The frequency with which certain items appear in its pages can be a decent metric of its popularity, and its continual publication creates a built-in time series. \n",
    "##### STEP 2: Getting API Access\n",
    "For most APIs, a key or other user credentials are required for any database querying. Generally, this requires that you register with the organization. Most APIs are set up for developers, so you'll likely be asked to register an \"application\". All this really entails is coming up with a name for your app/bot/project, and providing your real name, organization, and email. Note that some more popular APIs (e.g. Twitter, Facebook) will require additional information, such as a web address or mobile number.\n",
    "\n",
    "Once you've successfully registered, you will be assigned one or more keys, tokens, or other credentials that must be supplied to the server as part of any API call you make. To make sure that users aren't abusing their data access privileges (e.g. by making many rapid queries), each set of keys will be given several rate limits governing the total number of calls that can be made over certain intervals of time. For the NYT Article API, we have relatively generous rate limits --- 10 calls per second and 10,000 calls per day.\n",
    "##### STEP 3: Construct a GET Request\n",
    "Likely the most challenging part of using web APIs is learning how to format your GET request URLs.  While there are common architectures for such URLs, each API has its own unique quirks.  For this reason, carefully reviewing the API documentation is critical.\n",
    "\n",
    "Most GET request URLs for API querying have three or four components:\n",
    "\n",
    "1. *Base URL*: a link stub that will be at the beginning of all calls to a given API; points the server to the location of an entire database\n",
    "\n",
    "2. *Search Parameters*: a character string appended to a base URL that tells the server what to extract from the database; basically a series of filters used to point to specific parts of a database\n",
    "\n",
    "3. *Authenication Key/Token*: a user-specific character string appended to a base URL telling the server who is making the query; allows servers to efficiently manage database access\n",
    "\n",
    "4. *Response Format*: a character string indicating how the response should be formatted; usually one of .csv, .json, or .xml\n",
    "\n",
    "\n",
    "##### STEP 4: Constructing API GET Requests in Python"
   ]
  },
  {
   "cell_type": "markdown",
   "metadata": {},
   "source": [
    "Before we start, run this command:\n"
   ]
  },
  {
   "cell_type": "code",
   "execution_count": 2,
   "metadata": {},
   "outputs": [
    {
     "name": "stdout",
     "output_type": "stream",
     "text": [
      "\n",
      "The following command must be run outside of the IPython shell:\n",
      "\n",
      "    $ pip install requests\n",
      "\n",
      "The Python package manager (pip) can only be used from outside of IPython.\n",
      "Please reissue the `pip` command in a separate terminal or command prompt.\n",
      "\n",
      "See the Python documentation for more informations on how to install packages:\n",
      "\n",
      "    https://docs.python.org/3/installing/\n"
     ]
    }
   ],
   "source": [
    "pip install requests"
   ]
  },
  {
   "cell_type": "code",
   "execution_count": null,
   "metadata": {
    "collapsed": true
   },
   "outputs": [],
   "source": [
    "STEP 1: Finding Data Resources\n",
    "\n",
    "To determine the popularity of something, we need a measurement of how frequently or widely it is referenced or encountered. Moreover, to determine how this popularity changes over time, we need a measurement that is taken repeatedly.\n",
    "\n",
    "Newspapers are an excellent source of such information. The frequency with which certain items appear in its pages can be a decent metric of its popularity, and its continual publication creates a built-in time series. And while there are a variety of newspapers to choose from, we'll be working with the New York Times for a variety of reasons --- including its status as a paper of record, its long publishing history, and (most importantly) its convenient article API.\n",
    "\n",
    "NYT Article API"
   ]
  },
  {
   "cell_type": "markdown",
   "metadata": {},
   "source": [
    "### Climate Data API\n",
    "For example, the World Bank’s Climate Data API provides data generated by 15 global circulation models. According to the API’s home page, the data sets containing yearly averages for various values are identified by URLs of the form:\n",
    "\n",
    "http://climatedataapi.worldbank.org/climateweb/rest/v1/country/cru/var/year/iso3.ext\n",
    "\n",
    "where:\n",
    "\n",
    "var is either pr (for precipitation) or tas (for “temperature at surface”);\n",
    "iso3 is the International Standards Organization (ISO) 3-letter code for a country, such as “CAN” for Canada or “BRA” for Brazil; and\n",
    "ext (short for “extension”) specifies the format we want the data in. There are several choices for format, but the simplest is comma-separated values (CSV), in which each record is a row, and the values in each row are separated by commas. (CSV is frequently used for spreadsheet data.)\n",
    "For example, if we want the average annual temperature in Canada as a CSV file, the URL is:\n",
    "\n",
    "http://climatedataapi.worldbank.org/climateweb/rest/v1/country/cru/tas/year/CAN.csv\n",
    "If we paste that URL into a browser, it displays:\n",
    "~~~\n",
    "year,data\n",
    "1901,-7.67241907119751\n",
    "1902,-7.862711429595947\n",
    "1903,-7.910782814025879\n",
    "...\n",
    "2007,-6.819293975830078\n",
    "2008,-7.2008957862854\n",
    "2009,-6.997011661529541\n",
    "~~~"
   ]
  },
  {
   "cell_type": "code",
   "execution_count": 2,
   "metadata": {},
   "outputs": [
    {
     "name": "stdout",
     "output_type": "stream",
     "text": [
      "First 100 characters of data are\n",
      "year,data\n",
      "1901,-7.67241907119751\n",
      "1902,-7.862711429595947\n",
      "1903,-7.910782814025879\n",
      "1904,-8.15572929382\n"
     ]
    }
   ],
   "source": [
    "\n",
    "import requests\n",
    "url = 'http://climatedataapi.worldbank.org/climateweb/rest/v1/country/cru/tas/year/CAN.csv'\n",
    "response = requests.get(url)\n",
    "if response.status_code != 200:\n",
    "    print('Failed to get data:', response.status_code)\n",
    "else:\n",
    "    print('First 100 characters of data are')\n",
    "    print(response.text[:100])"
   ]
  },
  {
   "cell_type": "markdown",
   "metadata": {},
   "source": [
    "This particular data set might be stored in a file on the World Bank’s server, or that server might:\n",
    "\n",
    "1. Receive our URL.\n",
    "2. Break it into pieces.\n",
    "3. Extract the three key fields (the variable, the country code, and the desired format).\n",
    "4. Fetch the desired data from a database.\n",
    "5. Format the data as CSV.\n",
    "6. Send that to our browser.\n",
    "\n",
    "As long as the World Bank doesn’t change its URLs, we don’t need to know which method it’s using and it can switch back and forth between them without breaking our programs."
   ]
  },
  {
   "cell_type": "markdown",
   "metadata": {},
   "source": [
    "### Twitter API\n",
    "\n",
    "This Twitter API is slightly more complicated, but because of this, people have created very useful tools to easily interact with the Twitter API. First, follow the directions to get your API credientials.\n",
    "\n",
    "#### Question 1\n",
    "Follow these instructions to get your keys:\n",
    "\n",
    "1. [Create a Twitter account](https://twitter.com).  You can use an existing account if you have one.\n",
    "2. Under account settings, add your phone number to the account.\n",
    "3. [Create a Twitter developer account](https://dev.twitter.com/resources/signup).  Attach it to your Twitter account.\n",
    "4. Once you're logged into your developer account, [create an application for this assignment](https://apps.twitter.com/app/new).  You can call it whatever you want, and you can write any URL when it asks for a web site.\n",
    "5. On the page for that application, find your Consumer Key and Consumer Secret.\n",
    "6. On the same page, create an Access Token.  Record the resulting Access Token and Access Token Secret.\n",
    "7. Edit the file [keys.json](keys.json) and replace the placeholders with your keys.  Don't turn in that file.\n",
    "\n"
   ]
  },
  {
   "cell_type": "code",
   "execution_count": 6,
   "metadata": {
    "scrolled": true
   },
   "outputs": [
    {
     "name": "stdout",
     "output_type": "stream",
     "text": [
      "2017-08-27 21:11:20\n"
     ]
    },
    {
     "data": {
      "image/png": "[encoded data removed]",
      "text/plain": [
       "<matplotlib.figure.Figure at 0x7f3b130b9048>"
      ]
     },
     "metadata": {},
     "output_type": "display_data"
    }
   ],
   "source": [
    "import tweepy\n",
    "import numpy as np\n",
    "import matplotlib.pyplot as plt\n",
    "\n",
    "# Twitter API credentials\n",
    "consumer_key = \"IjI8AdEUOlzif3J0qgt6bw9JI\"\n",
    "consumer_secret = \"gZLhygPv5uBCWIQVr6sZjCgYVfcXGzGuTNl7oOapYmWazdLEm6\"\n",
    "access_key = \"278661116-qdUru3GXVYT9upGH0cgbwROu4KzypMSwQgknMNW2\"\n",
    "access_secret = \"RMZY9H7vvbuHq9jFZO4fdtw5cBPZUlbLDhEwU9zir6LyG\"\n",
    "\n",
    "auth = tweepy.OAuthHandler(consumer_key, consumer_secret)\n",
    "auth.set_access_token(access_key, access_secret)\n",
    "api = tweepy.API(auth)\n",
    "\n",
    "# search all twitter\n",
    "# search all twitter\n",
    "results = tweepy.Cursor(\n",
    "    api.search,\n",
    "    q='Berkeley', # query, any word you want found in a tweet\n",
    "  #  geocode=\"37.871853,-122.258423,80km\", # lat. and long., radius\n",
    "    result_type = 'popular'\n",
    "    ).items(100)\n",
    "\n",
    "results_tweets = []\n",
    "\n",
    "for t in results:\n",
    "    results_tweets.append(t)\n",
    "    \n",
    "    \n",
    "print(results_tweets[0].created_at)\n",
    "retweet_counts = []\n",
    "for t in results_tweets:\n",
    "    retweet_counts.append(t.retweet_count)\n",
    "\n",
    "results_tweets = []\n",
    "for t in results:\n",
    "    results_tweets.append(t)\n",
    "    \n",
    "plt.hist(retweet_counts)\n",
    "plt.show()\n",
    "\n",
    "\n",
    "\n"
   ]
  },
  {
   "cell_type": "markdown",
   "metadata": {},
   "source": [
    "### NYTimes API\n",
    "\n",
    "How Much Less Popular is Duke Ellington?\n",
    "\n",
    "If you ask a jazz musician who they feel is the greatest bandleader of all time, there's a pretty good chance they'll mention Duke Ellington. Though Ellington was at peak popularity from roughly 1930 to 1945, his music is still heard regularly.\n",
    "\n",
    "TASK: Characterize the popularity of Duke Ellington over the past 15 years. Specifically, is he \"trending\"?\n",
    "\n"
   ]
  },
  {
   "cell_type": "code",
   "execution_count": 3,
   "metadata": {},
   "outputs": [
    {
     "data": {
      "text/plain": [
       "{'_id': '591587cc7c459f24986df31e',\n",
       " 'blog': {},\n",
       " 'byline': {'original': 'By LAURA M. HOLSON'},\n",
       " 'document_type': 'article',\n",
       " 'headline': {'kicker': 'Vows',\n",
       "  'main': 'In the Theater, an Unexpected Match for a Reluctant Bride',\n",
       "  'print_headline': 'An Unexpected Match for a Reluctant Bride'},\n",
       " 'keywords': [{'isMajor': 'N',\n",
       "   'name': 'subject',\n",
       "   'rank': 1,\n",
       "   'value': 'Dating and Relationships'},\n",
       "  {'isMajor': 'N',\n",
       "   'name': 'subject',\n",
       "   'rank': 2,\n",
       "   'value': 'Weddings and Engagements'},\n",
       "  {'isMajor': 'N', 'name': 'subject', 'rank': 3, 'value': 'Theater'},\n",
       "  {'isMajor': 'N',\n",
       "   'name': 'organizations',\n",
       "   'rank': 4,\n",
       "   'value': 'La Jolla Playhouse'},\n",
       "  {'isMajor': 'N', 'name': 'persons', 'rank': 5, 'value': 'Wong, B D'},\n",
       "  {'isMajor': 'N',\n",
       "   'name': 'creative_works',\n",
       "   'rank': 6,\n",
       "   'value': 'Come From Away (Play)'},\n",
       "  {'isMajor': 'N',\n",
       "   'name': 'creative_works',\n",
       "   'rank': 7,\n",
       "   'value': 'The Glass Menagerie (Play)'}],\n",
       " 'multimedia': [{'height': 75,\n",
       "   'legacy': {'thumbnail': 'images/2017/05/14/fashion/weddings/14VOWS1/14VOWS1-thumbStandard.jpg',\n",
       "    'thumbnailheight': 75,\n",
       "    'thumbnailwidth': 75},\n",
       "   'rank': 0,\n",
       "   'subtype': 'thumbnail',\n",
       "   'type': 'image',\n",
       "   'url': 'images/2017/05/14/fashion/weddings/14VOWS1/14VOWS1-thumbStandard.jpg',\n",
       "   'width': 75},\n",
       "  {'height': 400,\n",
       "   'legacy': {'xlarge': 'images/2017/05/14/fashion/weddings/14VOWS1/14VOWS1-articleLarge.jpg',\n",
       "    'xlargeheight': 400,\n",
       "    'xlargewidth': 600},\n",
       "   'rank': 0,\n",
       "   'subtype': 'xlarge',\n",
       "   'type': 'image',\n",
       "   'url': 'images/2017/05/14/fashion/weddings/14VOWS1/14VOWS1-articleLarge.jpg',\n",
       "   'width': 600},\n",
       "  {'height': 126,\n",
       "   'legacy': {'wide': 'images/2017/05/14/fashion/weddings/14VOWS1/14VOWS1-thumbWide-v2.jpg',\n",
       "    'wideheight': 126,\n",
       "    'widewidth': 190},\n",
       "   'rank': 0,\n",
       "   'subtype': 'wide',\n",
       "   'type': 'image',\n",
       "   'url': 'images/2017/05/14/fashion/weddings/14VOWS1/14VOWS1-thumbWide-v2.jpg',\n",
       "   'width': 190}],\n",
       " 'new_desk': 'Society',\n",
       " 'print_page': '13',\n",
       " 'pub_date': '2017-05-12T10:00:36+0000',\n",
       " 'score': 0.35941786,\n",
       " 'section_name': 'Weddings',\n",
       " 'snippet': '“I was good as a single person,” Martha Donaldson said. Then she met Sharon Wheatley while working on a play in California.',\n",
       " 'source': 'The New York Times',\n",
       " 'type_of_material': 'News',\n",
       " 'web_url': 'https://www.nytimes.com/2017/05/12/fashion/weddings/in-the-theater-an-unexpected-match-for-a-reluctant-bride.html',\n",
       " 'word_count': 1256}"
      ]
     },
     "execution_count": 3,
     "metadata": {},
     "output_type": "execute_result"
    }
   ],
   "source": [
    "# Import required libraries\n",
    "import requests\n",
    "import json\n",
    "from __future__ import division\n",
    "import math\n",
    "import csv\n",
    "import matplotlib.pyplot as plt\n",
    "\n",
    "# set key\n",
    "key=\"be8992a420bfd16cf65e8757f77a5403:8:44644296\"\n",
    "\n",
    "# set base url\n",
    "base_url=\"http://api.nytimes.com/svc/search/v2/articlesearch\"\n",
    "\n",
    "# set response format\n",
    "response_format=\".json\"\n",
    "\n",
    "# set search parameters\n",
    "search_params = {\"q\":\"Duke Ellington\",\n",
    "                 \"api-key\":key}   \n",
    "r = requests.get(base_url+response_format, params=search_params)\n",
    "#print(r.url)\n",
    "\n",
    "# Inspect the content of the response, parsing the result as text\n",
    "response_text= r.text\n",
    "#print(response_text[:1000])\n",
    "\n",
    "# Convert JSON response to a dictionary\n",
    "data = json.loads(response_text)\n",
    "# data\n",
    "\n",
    "#Commands to work with json data\n",
    "data['status']\n",
    "type(data['response']['docs'])\n",
    "data['response']['meta']['hits']\n",
    "data['response'].keys()\n",
    "\n",
    "\n",
    "#put the data in variable.\n",
    "docs = data['response']['docs']\n",
    "docs[0]"
   ]
  },
  {
   "cell_type": "code",
   "execution_count": 4,
   "metadata": {
    "collapsed": true
   },
   "outputs": [],
   "source": [
    "def get_api_data(term, year):\n",
    "    # set base url\n",
    "    base_url=\"http://api.nytimes.com/svc/search/v2/articlesearch\"\n",
    "\n",
    "    # set response format\n",
    "    response_format=\".json\"\n",
    "\n",
    "    # set search parameters\n",
    "    search_params = {\"q\":term,\n",
    "                 \"api-key\":key,\n",
    "                 \"begin_date\": str(year) + \"0101\", # date must be in YYYYMMDD format\n",
    "                 \"end_date\":str(year) + \"1231\"}\n",
    "\n",
    "    # make request\n",
    "    r = requests.get(base_url+response_format, params=search_params)\n",
    "    \n",
    "    # convert to a dictionary\n",
    "    data=json.loads(r.text)\n",
    "    \n",
    "    # get number of hits\n",
    "    hits = data['response']['meta']['hits']\n",
    "    print(\"number of hits:\", str(hits))\n",
    "    \n",
    "    # get number of pages\n",
    "    pages = int(math.ceil(hits/10))\n",
    "    \n",
    "    # make an empty list where we'll hold all of our docs for every page\n",
    "    all_docs = [] \n",
    "    \n",
    "    # now we're ready to loop through the pages\n",
    "    for i in range(pages):\n",
    "        print(\"collecting page\", str(i))\n",
    "        \n",
    "        # set the page parameter\n",
    "        search_params['page'] = i\n",
    "        \n",
    "        # make request\n",
    "        r = requests.get(base_url+response_format, params=search_params)\n",
    "    \n",
    "        # get text and convert to a dictionary\n",
    "        data=json.loads(r.text)\n",
    "        \n",
    "        # get just the docs\n",
    "        docs = data['response']['docs']\n",
    "        \n",
    "        # add those docs to the big list\n",
    "        all_docs = all_docs + docs\n",
    "        \n",
    "        time.sleep(randint(3,5))  # pause between calls\n",
    "        \n",
    "    return(all_docs)"
   ]
  },
  {
   "cell_type": "code",
   "execution_count": 5,
   "metadata": {},
   "outputs": [
    {
     "name": "stdout",
     "output_type": "stream",
     "text": [
      "number of hits: 170\n",
      "collecting page 0\n"
     ]
    },
    {
     "ename": "KeyError",
     "evalue": "'response'",
     "output_type": "error",
     "traceback": [
      "\u001b[0;31m---------------------------------------------------------------------------\u001b[0m",
      "\u001b[0;31mKeyError\u001b[0m                                  Traceback (most recent call last)",
      "\u001b[0;32m<ipython-input-5-53b9ae733746>\u001b[0m in \u001b[0;36m<module>\u001b[0;34m()\u001b[0m\n\u001b[0;32m----> 1\u001b[0;31m \u001b[0mget_api_data\u001b[0m\u001b[0;34m(\u001b[0m\u001b[0;34m\"Duke Ellington\"\u001b[0m\u001b[0;34m,\u001b[0m \u001b[0;36m2014\u001b[0m\u001b[0;34m)\u001b[0m\u001b[0;34m\u001b[0m\u001b[0m\n\u001b[0m",
      "\u001b[0;32m<ipython-input-4-8c43071c5bef>\u001b[0m in \u001b[0;36mget_api_data\u001b[0;34m(term, year)\u001b[0m\n\u001b[1;32m     42\u001b[0m \u001b[0;34m\u001b[0m\u001b[0m\n\u001b[1;32m     43\u001b[0m         \u001b[0;31m# get just the docs\u001b[0m\u001b[0;34m\u001b[0m\u001b[0;34m\u001b[0m\u001b[0m\n\u001b[0;32m---> 44\u001b[0;31m         \u001b[0mdocs\u001b[0m \u001b[0;34m=\u001b[0m \u001b[0mdata\u001b[0m\u001b[0;34m[\u001b[0m\u001b[0;34m'response'\u001b[0m\u001b[0;34m]\u001b[0m\u001b[0;34m[\u001b[0m\u001b[0;34m'docs'\u001b[0m\u001b[0;34m]\u001b[0m\u001b[0;34m\u001b[0m\u001b[0m\n\u001b[0m\u001b[1;32m     45\u001b[0m \u001b[0;34m\u001b[0m\u001b[0m\n\u001b[1;32m     46\u001b[0m         \u001b[0;31m# add those docs to the big list\u001b[0m\u001b[0;34m\u001b[0m\u001b[0;34m\u001b[0m\u001b[0m\n",
      "\u001b[0;31mKeyError\u001b[0m: 'response'"
     ]
    }
   ],
   "source": [
    "get_api_data(\"Duke Ellington\", 2014)"
   ]
  },
  {
   "cell_type": "code",
   "execution_count": null,
   "metadata": {
    "collapsed": true
   },
   "outputs": [],
   "source": []
  }
 ],
 "metadata": {
  "kernelspec": {
   "display_name": "Python 3",
   "language": "python",
   "name": "python3"
  },
  "language_info": {
   "codemirror_mode": {
    "name": "ipython",
    "version": 3
   },
   "file_extension": ".py",
   "mimetype": "text/x-python",
   "name": "python",
   "nbconvert_exporter": "python",
   "pygments_lexer": "ipython3",
   "version": "3.6.1"
  }
 },
 "nbformat": 4,
 "nbformat_minor": 2
}
