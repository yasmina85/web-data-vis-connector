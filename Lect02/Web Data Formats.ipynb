{
 "cells": [
  {
   "cell_type": "markdown",
   "metadata": {},
   "source": [
    "# Web Data Formats"
   ]
  },
  {
   "cell_type": "markdown",
   "metadata": {},
   "source": [
    "## 1. Intro"
   ]
  },
  {
   "cell_type": "markdown",
   "metadata": {},
   "source": [
    "There are a lot of ways to format data. For example, think of how you might represent today's date. You might write `\"5/9/17\"` if you're in a hurry, or `\"September 5, 2017\"` if you want to be more explicit. But `\"2017 AD: Tuesday, Sep. 5\"` and `\"Stardate 95280.97\"` are also equally valid. What are the merits of one format, over another?\n",
    "\n",
    "1. First of all, you might have an easier time handling one data format over another. For example, Python can very easily tell you what day of the year corresponds to `September 5, 2017`, but you would likely have some trouble trying to get any meaningful information out of `Stardate 95280.97`.\n",
    "1. Second, it may also be easier to write some kinds of data than others. If I want to represent all the information in Shakespeare's works, then it would be a relatively easy task if my data format allows me to store sentences and paragraphs of text. It would be much harder, if I was not allowed to do that.\n",
    "1. Last but not leasat, consider that the way your data is structured will ultimately shape what kind of analyses you can do on that data. Some formats might make it very hard, or even impossible, to store certain information. Other formats might group data together in ways that make it easy to analyze subsets of your data. We will see some examples soon."
   ]
  },
  {
   "cell_type": "markdown",
   "metadata": {},
   "source": [
    "Today we will talk about 3 data formats in particular:\n",
    "1. `.csv`: comma-separated value\n",
    "1. `.xml`: extensible markup language\n",
    "1. `.json`: Javascript object notation"
   ]
  },
  {
   "cell_type": "markdown",
   "metadata": {},
   "source": [
    "**Reference: ** [Data and Twitter Analysis](https://github.com/henchc/EDUC290B/blob/master/02-Data-and-Twitter.ipynb)"
   ]
  },
  {
   "cell_type": "markdown",
   "metadata": {},
   "source": [
    "## 2. CSV Data Format"
   ]
  },
  {
   "cell_type": "markdown",
   "metadata": {},
   "source": [
    "Most people are familiar with Microsoft Excel spreadsheet's `.xls` format, great for storing tabular data. However, Microsoft encodes the `.xls` format with a lot of information for displaying it in the software environment as well as remembering any formulas you may have used, among other things. The extra information is often not necessary to simply store the raw data, and is not easily readable by other software. A bare-bones `.xls` format is the `.csv`, or \"comma-separated value\". It's not any more complicated than the name. All values are separated by commas to delimit columns, while the lines represent rows."
   ]
  },
  {
   "cell_type": "markdown",
   "metadata": {},
   "source": [
    "For instance, consider this table:\n",
    "\n",
    "| Name    | Age | Department | Hometown |\n",
    "|---------|-----|------------|----------|\n",
    "| Chris   | 27  | German     | Plymouth |\n",
    "| Jarrett | 25  | Physics    | Newark   |\n",
    "| Sofia   | 22  | Chemistry  | Boston   |\n",
    "| Esther  | 24  | Economics  | Oakland  |\n",
    "\n",
    "In `.csv` format, we can represent the same table as follows:\n",
    "\n",
    "~~~\n",
    "Name, Age, Department, Hometown\n",
    "Chris, 27, German, Plymouth\n",
    "Jarrett, 25, Physics, Newark\n",
    "Sofia, 22, Chemistry, Boston\n",
    "Esther, 24, Economics, Oakland\n",
    "~~~"
   ]
  },
  {
   "cell_type": "markdown",
   "metadata": {},
   "source": [
    "Notably, the header is not distinguishable except for being the first row. There is also no way to add any metadata or notes unless it fits into a column or row. Nevertheless, `.csv` is standard for simple data, and is easily read by most software. If you are collaborating with researchers or using different pieces of software you'll most likely want to use this format."
   ]
  },
  {
   "cell_type": "markdown",
   "metadata": {},
   "source": [
    "Python can easily dump data into a `.csv`. The most straight-forward approach would be writing the data row by row, column by column. In the example below, `my_data` is a list that contains lists. Each inner list represents a row of the table."
   ]
  },
  {
   "cell_type": "code",
   "execution_count": 2,
   "metadata": {
    "collapsed": true
   },
   "outputs": [],
   "source": [
    "import csv # This library will make it easy to handle `.csv` files.\n",
    "\n",
    "# `my_data` is a list that contains lists. Each inner list represents a row of the table.\n",
    "\n",
    "my_data = [['Name', 'Age', 'Department', 'Hometown'], # The 1st row contains the table header.\n",
    "           ['Chris', '27', 'German', 'Plymouth'],     # The 2nd row contains Chris' data.\n",
    "           ['Jarrett', '25', 'Physics', 'Newark',],   # The 3rd row contains Jarrett's data.\n",
    "           ['Sofia', '22', 'Chemistry', 'Boston'],    # The 4th row contains Sofia's data.\n",
    "           ['Esther', '24', 'Economics', 'Oakland']   # The 5th row contains Esther's data.\n",
    "          ]"
   ]
  },
  {
   "cell_type": "markdown",
   "metadata": {},
   "source": [
    "The first step in writing data to a file is to just open the file. In the next cell, we do this by calling the `open` command. We also have to specify that we want to open `my_data.csv`, with the permission to write in it. (If we only needed to read the file, then we would say `\"r\"` isntead of `\"w\"`.)"
   ]
  },
  {
   "cell_type": "code",
   "execution_count": 4,
   "metadata": {},
   "outputs": [],
   "source": [
    "with open(\"my_data.csv\", \"w\") as f: # Open my_data.csv, with write access.\n",
    "                                    # Simultaneously, we assign `f` to the opened file.\n",
    "    writer = csv.writer(f)          # Create a `writer` that can write data into the file `f`.\n",
    "    writer.writerows(my_data)       # Tell the `writer` to write rows of `my_data` into `f`."
   ]
  },
  {
   "cell_type": "markdown",
   "metadata": {},
   "source": [
    "There you go! Now `my_data.csv` contains all the info stored in `my_data`."
   ]
  },
  {
   "cell_type": "markdown",
   "metadata": {},
   "source": [
    "Just to be sure everything worked out, let's try to read back the data we just wrote. In the next cell, we create a `reader`, which converts rows of `my_data.csv` into lists. When we write `list(reader)`, that makes a list of all those lists — i.e. another nested list just like `my_data`."
   ]
  },
  {
   "cell_type": "code",
   "execution_count": 5,
   "metadata": {},
   "outputs": [
    {
     "name": "stdout",
     "output_type": "stream",
     "text": [
      "[['Name', 'Age', 'Department', 'Hometown'], ['Chris', '27', 'German', 'Plymouth'], ['Jarrett', '25', 'Physics', 'Newark'], ['Sofia', '22', 'Chemistry', 'Boston'], ['Esther', '24', 'Economics', 'Oakland']]\n"
     ]
    }
   ],
   "source": [
    "with open(\"my_data.csv\", \"r\") as f: # Again, we have to open my_data.csv, now with read access.\n",
    "                                    # Simultaneously, we assign `f` to the opened file.\n",
    "    reader = csv.reader(f)          # Create a `reader` that can read data from the file `f`.\n",
    "    csv_data = list(reader)         # Tell the `reader` to read rows of `my_data` as lists.\n",
    "    \n",
    "print(csv_data)"
   ]
  },
  {
   "cell_type": "markdown",
   "metadata": {},
   "source": [
    "Notice, our output is a list just like `my_data` above. Each element is a list, containing data from one row of the file. If you still prefer Excel for analysis, you can still open our `.csv` file in Excel!"
   ]
  },
  {
   "cell_type": "markdown",
   "metadata": {},
   "source": [
    "## 3. XML Data Format"
   ]
  },
  {
   "cell_type": "markdown",
   "metadata": {},
   "source": [
    "XML, or \"extensible markup language\", is structured by tags — a lot like HTML. Each block is denoted by a beginning tag and an end tag. The end tag is marked with a `/` before the tag name. Unlike HTML, XML does not have pre-defined tags that have certain functions, so we can call each tag whatever we want. XML is a great way to structure metadata, and is commonly used for onilne data and annotating corpora. Let's look at an example."
   ]
  },
  {
   "cell_type": "markdown",
   "metadata": {},
   "source": [
    "~~~\n",
    "<my-library>\n",
    "    <book>\n",
    "        <title>Harry Potter and the Sorcerer's Stone</title>\n",
    "        <author>J. K. Rowling</author>\n",
    "        <date>1998</date>\n",
    "        <publisher>Scholastic Corporation</publisher>\n",
    "    </book>\n",
    "    <book>\n",
    "        <title>The Hobbit</title>\n",
    "        <author>J. R. R. Tolkien</author>\n",
    "        <date>1937</date>\n",
    "        <publisher>George Allen and Unwin</publisher>\n",
    "    </book>\n",
    "    <film>\n",
    "        <title>The Bicentennial Man</title>\n",
    "        <director>Chris Columbus</director>\n",
    "        <date>1999</date>\n",
    "        <production-co>Touchstone Pictures</production-co>\n",
    "    </film>\n",
    "</my-library>\n",
    "~~~"
   ]
  },
  {
   "cell_type": "markdown",
   "metadata": {},
   "source": [
    "Notice how each level of hierarchy is denoted within a begin and end tag. The whole thing is part of `<my-library>`, which we close with `</my-library>` at the end of the file. The information about each book is completely contained between the start tag `<book>` and the end tag `</book>`. It doesn't matter what words we use for each tag, so long as the beginning and end tags correspond to one another. (But we still want this to be readable. For example, a block within `<qnxhtkzburo>` `</qnxhtkzburo>` would be unwise just because it's hard to read.)"
   ]
  },
  {
   "cell_type": "markdown",
   "metadata": {},
   "source": [
    "You could still represent this data in a CSV — but it might be unwise. Since `my-library` contains `book`s and `film`s, there would be a lot of `N/A` entries in our CSV table. That's because `book`s don't have `director`s, and `film`s don't have `author`s, etc. For this reason, XML is better than CSV format when you have several different categories in your data."
   ]
  },
  {
   "cell_type": "markdown",
   "metadata": {},
   "source": [
    "In the next cell, notice that we represent XML data as a really really long string, sort of like a paragraph of text. This is very different from the way we represented CSV data in Python, which we did using nested lists."
   ]
  },
  {
   "cell_type": "code",
   "execution_count": 17,
   "metadata": {
    "collapsed": true
   },
   "outputs": [],
   "source": [
    "my_data = \"\"\"\n",
    "<my-library>\n",
    "    <book>\n",
    "        <title>Harry Potter and the Sorcerer's Stone</title>\n",
    "        <author>J. K. Rowling</author>\n",
    "        <date>1998</date>\n",
    "        <publisher>Scholastic Corporation</publisher>\n",
    "    </book>\n",
    "    <book>\n",
    "        <title>The Hobbit</title>\n",
    "        <author>J. R. R. Tolkien</author>\n",
    "        <date>1937</date>\n",
    "        <publisher>George Allen and Unwin</publisher>\n",
    "    </book>\n",
    "    <film>\n",
    "        <title>The Bicentennial Man</title>\n",
    "        <director>Chris Columbus</director>\n",
    "        <date>1999</date>\n",
    "        <production-co>Touchstone Pictures</production-co>\n",
    "    </film>\n",
    "</my-library>\n",
    "\"\"\""
   ]
  },
  {
   "cell_type": "markdown",
   "metadata": {},
   "source": [
    "In order to read XML data, you can use the `xml.fromstring` function. This will convert data from a string to an XML object."
   ]
  },
  {
   "cell_type": "code",
   "execution_count": 18,
   "metadata": {},
   "outputs": [],
   "source": [
    "import xml.etree.ElementTree as xml # This library will make it easy to handle `.csv` files.\n",
    "\n",
    "xml_data = xml.fromstring(my_data)  # Use `xml.fromstring` to convert `my_data` from a string\n",
    "                                    # to an XML object."
   ]
  },
  {
   "cell_type": "markdown",
   "metadata": {},
   "source": [
    "Now that our data is an XML object, we can use functions specific to XML objects. For example, `findall` will make a ist of every object under a particular tag in the XML data."
   ]
  },
  {
   "cell_type": "code",
   "execution_count": 19,
   "metadata": {},
   "outputs": [
    {
     "data": {
      "text/plain": [
       "[<Element 'book' at 0x107a51a98>, <Element 'book' at 0x107a51c78>]"
      ]
     },
     "execution_count": 19,
     "metadata": {},
     "output_type": "execute_result"
    }
   ],
   "source": [
    "xml_data.findall('book')"
   ]
  },
  {
   "cell_type": "code",
   "execution_count": 20,
   "metadata": {},
   "outputs": [
    {
     "data": {
      "text/plain": [
       "[<Element 'film' at 0x107a51e08>]"
      ]
     },
     "execution_count": 20,
     "metadata": {},
     "output_type": "execute_result"
    }
   ],
   "source": [
    "xml_data.findall('film')"
   ]
  },
  {
   "cell_type": "markdown",
   "metadata": {},
   "source": [
    "Then we can access each tag within the `book` or `film` object, by specifying the index of the tag."
   ]
  },
  {
   "cell_type": "code",
   "execution_count": 22,
   "metadata": {
    "collapsed": true
   },
   "outputs": [],
   "source": [
    "harry_potter = xml_data.findall('book')[0]\n",
    "the_hobbit = xml_data.findall('book')[1]\n",
    "bicentennial_man = xml_data.findall('film')[0]"
   ]
  },
  {
   "cell_type": "code",
   "execution_count": 23,
   "metadata": {},
   "outputs": [
    {
     "name": "stdout",
     "output_type": "stream",
     "text": [
      "Harry Potter and the Sorcerer's Stone\n",
      "J. K. Rowling\n",
      "1998\n",
      "Scholastic Corporation\n"
     ]
    }
   ],
   "source": [
    "print(harry_potter[0].text)\n",
    "print(harry_potter[1].text)\n",
    "print(harry_potter[2].text)\n",
    "print(harry_potter[3].text)"
   ]
  },
  {
   "cell_type": "code",
   "execution_count": 24,
   "metadata": {},
   "outputs": [
    {
     "name": "stdout",
     "output_type": "stream",
     "text": [
      "The Bicentennial Man\n",
      "Chris Columbus\n",
      "1999\n",
      "Touchstone Pictures\n"
     ]
    }
   ],
   "source": [
    "print(bicentennial_man[0].text)\n",
    "print(bicentennial_man[1].text)\n",
    "print(bicentennial_man[2].text)\n",
    "print(bicentennial_man[3].text)"
   ]
  },
  {
   "cell_type": "markdown",
   "metadata": {},
   "source": [
    "## 4. JSON"
   ]
  },
  {
   "cell_type": "markdown",
   "metadata": {},
   "source": [
    "JSON, or JavaScript Object Notation, is a format for structuring and exchanging data. Its syntax is based on JavaScript, but you can still use it in any language, including Python. Its format is somewhat similar to that of a Python dictionary in that it consists of a collection of key-value pairs. JSON, along with XML, are the most popular formats to get data from the internet. Let's look at the same data from the XML example in JSON format."
   ]
  },
  {
   "cell_type": "code",
   "execution_count": 33,
   "metadata": {
    "collapsed": true,
    "scrolled": true
   },
   "outputs": [],
   "source": [
    "# `json_data` is a dictionary. That dictionary contains one element: 'my-library'.\n",
    "# 'my_library' maps to a list that contains 3 dictionaries.\n",
    "#     1. The first dictionary in the list represents Harry Potter.\n",
    "#        It has a 'title', 'author', 'data', and 'publisher'.\n",
    "#     2. The second dictionary in the list represents The Hobbit.\n",
    "#        It has a 'title', 'author', 'data', and 'publisher'.\n",
    "#     3. The third dictionary in the list represents The Bicentennial Man.\n",
    "#        It has a 'title', 'director', 'data', and 'production-co'.\n",
    "\n",
    "json_data = {'my-library': [{'title': \"Harry Potter and the Sorcerer's Stone\",\n",
    "                             'author': 'J. K. Rowling',\n",
    "                             'date': '1998',\n",
    "                             'publisher': 'Scholastic Corporation'\n",
    "                            },\n",
    "                            \n",
    "                            {'title': \"The Hobbit\",\n",
    "                             'author': 'J. R. R. Tolkien',\n",
    "                             'date': '1937',\n",
    "                             'publisher': 'George Allen and Unwin'\n",
    "                            },\n",
    "                            \n",
    "                            {'title': \"The Bicentennial Man\",\n",
    "                             'director': 'Chris Columbus',\n",
    "                             'date': '1999',\n",
    "                             'production-co': 'Touchstone Pictures'\n",
    "                            },\n",
    "                           ]\n",
    "            }"
   ]
  },
  {
   "cell_type": "code",
   "execution_count": 26,
   "metadata": {},
   "outputs": [
    {
     "data": {
      "text/plain": [
       "{'my-library': [{'author': 'J. K. Rowling',\n",
       "   'date': '1998',\n",
       "   'publisher': 'Scholastic Corporation',\n",
       "   'title': \"Harry Potter and the Sorcerer's Stone\"},\n",
       "  {'author': 'J. R. R. Tolkien',\n",
       "   'date': '1937',\n",
       "   'publisher': 'George Allen and Unwin',\n",
       "   'title': 'The Hobbit'},\n",
       "  {'date': '1999',\n",
       "   'director': 'Chris Columbus',\n",
       "   'production-co': 'Touchstone Pictures',\n",
       "   'title': 'The Bicentennial Man'}]}"
      ]
     },
     "execution_count": 26,
     "metadata": {},
     "output_type": "execute_result"
    }
   ],
   "source": [
    "json_data"
   ]
  },
  {
   "cell_type": "code",
   "execution_count": 34,
   "metadata": {},
   "outputs": [
    {
     "data": {
      "text/plain": [
       "[{'author': 'J. K. Rowling',\n",
       "  'date': '1998',\n",
       "  'publisher': 'Scholastic Corporation',\n",
       "  'title': \"Harry Potter and the Sorcerer's Stone\"},\n",
       " {'author': 'J. R. R. Tolkien',\n",
       "  'date': '1937',\n",
       "  'publisher': 'George Allen and Unwin',\n",
       "  'title': 'The Hobbit'},\n",
       " {'date': '1999',\n",
       "  'director': 'Chris Columbus',\n",
       "  'production-co': 'Touchstone Pictures',\n",
       "  'title': 'The Bicentennial Man'}]"
      ]
     },
     "execution_count": 34,
     "metadata": {},
     "output_type": "execute_result"
    }
   ],
   "source": [
    "my_library = json_data['my-library'] # 'my-library' maps to a list of 3 dictionaries.\n",
    "my_library"
   ]
  },
  {
   "cell_type": "code",
   "execution_count": 31,
   "metadata": {},
   "outputs": [
    {
     "data": {
      "text/plain": [
       "{'author': 'J. K. Rowling',\n",
       " 'date': '1998',\n",
       " 'publisher': 'Scholastic Corporation',\n",
       " 'title': \"Harry Potter and the Sorcerer's Stone\"}"
      ]
     },
     "execution_count": 31,
     "metadata": {},
     "output_type": "execute_result"
    }
   ],
   "source": [
    "harry_potter = my_library[0] # The first dictionary corresponds to our data on Harry Potter.\n",
    "harry_potter"
   ]
  },
  {
   "cell_type": "code",
   "execution_count": 32,
   "metadata": {},
   "outputs": [
    {
     "name": "stdout",
     "output_type": "stream",
     "text": [
      "J. K. Rowling\n",
      "1998\n",
      "Scholastic Corporation\n",
      "Harry Potter and the Sorcerer's Stone\n"
     ]
    }
   ],
   "source": [
    "print(harry_potter['author'])    # Get the 'author' out of the Harry Potter dictionary.\n",
    "print(harry_potter['date'])      # Get the 'data' out of the Harry Potter dictionary.\n",
    "print(harry_potter['publisher']) # Get the 'publisher' out of the Harry Potter dictionary.\n",
    "print(harry_potter['title'])     # Get the 'title' out of the Harry Potter dictionary."
   ]
  },
  {
   "cell_type": "markdown",
   "metadata": {},
   "source": [
    "## 5. Example: Handling CSV Data"
   ]
  },
  {
   "cell_type": "markdown",
   "metadata": {},
   "source": [
    "Let's use our new skills to read some climate data over the internet! There is some data available at the URL in the cell below. We will access that URL in Python code, and read it as a CSV. Then you can take a look at the data, to see how average global temperature has changed over the course of the last century."
   ]
  },
  {
   "cell_type": "code",
   "execution_count": 37,
   "metadata": {
    "scrolled": false
   },
   "outputs": [
    {
     "name": "stdout",
     "output_type": "stream",
     "text": [
      "['year', 'data']\n",
      "['1901', '-7.67241907119751']\n",
      "['1902', '-7.862711429595947']\n",
      "['1903', '-7.910782814025879']\n",
      "['1904', '-8.155729293823242']\n",
      "['1905', '-7.547311305999756']\n",
      "['1906', '-7.684103488922119']\n",
      "['1907', '-8.413553237915039']\n",
      "['1908', '-7.790929317474365']\n",
      "['1909', '-8.23930549621582']\n",
      "['1910', '-7.774611473083496']\n",
      "['1911', '-8.114446640014648']\n",
      "['1912', '-7.885402679443359']\n",
      "['1913', '-7.987940311431885']\n",
      "['1914', '-7.965937614440918']\n",
      "['1915', '-7.144039154052734']\n",
      "['1916', '-8.132978439331055']\n",
      "['1917', '-8.499914169311523']\n",
      "['1918', '-8.204662322998047']\n",
      "['1919', '-8.035985946655273']\n",
      "['1920', '-7.830679893493652']\n",
      "['1921', '-7.685777187347412']\n",
      "['1922', '-8.334989547729492']\n",
      "['1923', '-8.022125244140625']\n",
      "['1924', '-7.574568271636963']\n",
      "['1925', '-7.951625823974609']\n",
      "['1926', '-7.792789459228516']\n",
      "['1927', '-7.961727142333984']\n",
      "['1928', '-7.237975120544434']\n",
      "['1929', '-8.123651504516602']\n",
      "['1930', '-7.302305698394775']\n",
      "['1931', '-6.646339416503906']\n",
      "['1932', '-7.821688652038574']\n",
      "['1933', '-8.693134307861328']\n",
      "['1934', '-7.964327335357666']\n",
      "['1935', '-8.166967391967773']\n",
      "['1936', '-8.59422492980957']\n",
      "['1937', '-7.3392534255981445']\n",
      "['1938', '-6.856348991394043']\n",
      "['1939', '-7.669107913970947']\n",
      "['1940', '-6.799381256103516']\n",
      "['1941', '-7.233104705810547']\n",
      "['1942', '-7.097812652587891']\n",
      "['1943', '-7.2231879234313965']\n",
      "['1944', '-6.603946685791016']\n",
      "['1945', '-7.646345615386963']\n",
      "['1946', '-7.739509582519531']\n",
      "['1947', '-7.161524295806885']\n",
      "['1948', '-7.659969329833984']\n",
      "['1949', '-7.696352958679199']\n",
      "['1950', '-8.517829895019531']\n",
      "['1951', '-7.903929710388184']\n",
      "['1952', '-6.680769920349121']\n",
      "['1953', '-6.7539520263671875']\n",
      "['1954', '-7.334064483642578']\n",
      "['1955', '-7.586000919342041']\n",
      "['1956', '-8.27430534362793']\n",
      "['1957', '-7.763300895690918']\n",
      "['1958', '-6.903257846832275']\n",
      "['1959', '-7.8713836669921875']\n",
      "['1960', '-6.951033115386963']\n",
      "['1961', '-7.946412086486816']\n",
      "['1962', '-7.465360164642334']\n",
      "['1963', '-7.363328456878662']\n",
      "['1964', '-8.241130828857422']\n",
      "['1965', '-8.078269958496094']\n",
      "['1966', '-7.83267879486084']\n",
      "['1967', '-7.973592281341553']\n",
      "['1968', '-7.3681206703186035']\n",
      "['1969', '-7.0392913818359375']\n",
      "['1970', '-7.720573425292969']\n",
      "['1971', '-7.469780921936035']\n",
      "['1972', '-9.525187492370605']\n",
      "['1973', '-6.853341579437256']\n",
      "['1974', '-8.428787231445312']\n",
      "['1975', '-7.621856689453125']\n",
      "['1976', '-7.588895320892334']\n",
      "['1977', '-6.557257652282715']\n",
      "['1978', '-7.993335723876953']\n",
      "['1979', '-7.845717430114746']\n",
      "['1980', '-7.049171447753906']\n",
      "['1981', '-5.506665229797363']\n",
      "['1982', '-8.5137939453125']\n",
      "['1983', '-7.463536262512207']\n",
      "['1984', '-7.414198398590088']\n",
      "['1985', '-7.432916164398193']\n",
      "['1986', '-7.71035099029541']\n",
      "['1987', '-6.4537835121154785']\n",
      "['1988', '-6.610030174255371']\n",
      "['1989', '-7.706485748291016']\n",
      "['1990', '-7.6779985427856445']\n",
      "['1991', '-7.095147132873535']\n",
      "['1992', '-7.697887420654297']\n",
      "['1993', '-6.986419677734375']\n",
      "['1994', '-6.888780117034912']\n",
      "['1995', '-6.850322723388672']\n",
      "['1996', '-7.337457180023193']\n",
      "['1997', '-6.88342809677124']\n",
      "['1998', '-5.186192989349365']\n",
      "['1999', '-5.975519180297852']\n",
      "['2000', '-6.7265448570251465']\n",
      "['2001', '-5.930727958679199']\n",
      "['2002', '-6.852164268493652']\n",
      "['2003', '-6.402592658996582']\n",
      "['2004', '-7.529717445373535']\n",
      "['2005', '-5.863758563995361']\n",
      "['2006', '-5.543209552764893']\n",
      "['2007', '-6.819293975830078']\n",
      "['2008', '-7.2008957862854']\n",
      "['2009', '-6.997011661529541']\n",
      "['2010', '-4.703649520874023']\n",
      "['2011', '-5.9335737228393555']\n",
      "['2012', '-5.714600563049316']\n"
     ]
    }
   ],
   "source": [
    "import requests # This library will make it easy to use the internet from within Python code.\n",
    "import csv      # This library will make it easy to handle `.csv` files.\n",
    "\n",
    "# We want to get data from this URL:\n",
    "url = 'http://climatedataapi.worldbank.org/climateweb/rest/v1/country/cru/tas/year/CAN.csv'\n",
    "\n",
    "response = requests.get(url)     # Use `requests.get` to get a response from the URL.\n",
    "                                 # `response` is the result of trying to access the URL.\n",
    "                                 # `response.status_code` is 200 if we connect successfully.\n",
    "if response.status_code != 200:  # If we didn't connect successfully, print the failed code.\n",
    "    print('Failed to get data:', response.status_code)\n",
    "else:                            # But if we did connect successfully ...\n",
    "    text = response.text         # Get the text from the web page.\n",
    "    no_spaces = text.strip()     # Strip off any spaces, tabs, etc.\n",
    "    data = no_spaces.split('\\n') # Split it into a bunch of lists, one for every line.\n",
    "    reader = csv.reader(data)    # Make a `reader` to read the data.\n",
    "    for line in reader:          # Tell the `reader` to read rows of `data` as lists.\n",
    "        print(line)              # And print every list that it reads."
   ]
  }
 ],
 "metadata": {
  "kernelspec": {
   "display_name": "Python 3",
   "language": "python",
   "name": "python3"
  },
  "language_info": {
   "codemirror_mode": {
    "name": "ipython",
    "version": 3
   },
   "file_extension": ".py",
   "mimetype": "text/x-python",
   "name": "python",
   "nbconvert_exporter": "python",
   "pygments_lexer": "ipython3",
   "version": "3.6.1"
  }
 },
 "nbformat": 4,
 "nbformat_minor": 2
}
